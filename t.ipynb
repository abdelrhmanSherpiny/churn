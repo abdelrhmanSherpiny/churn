{
 "cells": [
  {
   "cell_type": "code",
   "execution_count": 2,
   "id": "7cb0f1a1",
   "metadata": {},
   "outputs": [],
   "source": [
    "from utils.CustomerData import CustomerData\n",
    "import pandas as pd\n",
    "from utils.config import preprocessor, forest_model"
   ]
  },
  {
   "cell_type": "code",
   "execution_count": 3,
   "id": "e9fd50a4",
   "metadata": {},
   "outputs": [],
   "source": [
    "data = CustomerData(\n",
    "    CreditScore=720,\n",
    "    Age=35,\n",
    "    Tenure=5,\n",
    "    Balance=25000.75,\n",
    "    NumOfProducts=2,\n",
    "    HasCrCard=1,\n",
    "    IsActiveMember=1,\n",
    "    EstimatedSalary=60000.50,\n",
    "    Geography='France',\n",
    "    Gender='Male'\n",
    ")"
   ]
  },
  {
   "cell_type": "code",
   "execution_count": 4,
   "id": "133af502",
   "metadata": {},
   "outputs": [],
   "source": [
    "new = pd.DataFrame([data.model_dump()])"
   ]
  },
  {
   "cell_type": "code",
   "execution_count": 5,
   "id": "df3c69b7",
   "metadata": {},
   "outputs": [
    {
     "data": {
      "text/plain": [
       "array([[ 0.71252153, -0.36699381, -0.81518154, -0.69335006,  1.        ,\n",
       "         0.        ,  0.        ,  5.        ,  2.        ,  1.        ,\n",
       "         1.        ]])"
      ]
     },
     "execution_count": 5,
     "metadata": {},
     "output_type": "execute_result"
    }
   ],
   "source": [
    "preprocessed = preprocessor.transform(new)\n",
    "preprocessed"
   ]
  },
  {
   "cell_type": "code",
   "execution_count": 6,
   "id": "b169868a",
   "metadata": {},
   "outputs": [
    {
     "data": {
      "text/plain": [
       "False"
      ]
     },
     "execution_count": 6,
     "metadata": {},
     "output_type": "execute_result"
    }
   ],
   "source": [
    "bool(forest_model.predict(preprocessed)[0])"
   ]
  },
  {
   "cell_type": "code",
   "execution_count": 7,
   "id": "b9ad711a",
   "metadata": {},
   "outputs": [
    {
     "data": {
      "text/plain": [
       "array([[0.86042321, 0.13957679]])"
      ]
     },
     "execution_count": 7,
     "metadata": {},
     "output_type": "execute_result"
    }
   ],
   "source": [
    "forest_model.predict_proba(preprocessed)"
   ]
  },
  {
   "cell_type": "code",
   "execution_count": 8,
   "id": "b702ee07",
   "metadata": {},
   "outputs": [
    {
     "data": {
      "text/plain": [
       "{'CreditScore': 720,\n",
       " 'Age': 35,\n",
       " 'Tenure': 5,\n",
       " 'Balance': 25000.75,\n",
       " 'NumOfProducts': 2,\n",
       " 'HasCrCard': 1,\n",
       " 'IsActiveMember': 1,\n",
       " 'EstimatedSalary': 60000.5,\n",
       " 'Geography': 'France',\n",
       " 'Gender': 'Male'}"
      ]
     },
     "execution_count": 8,
     "metadata": {},
     "output_type": "execute_result"
    }
   ],
   "source": [
    "data.model_dump()"
   ]
  }
 ],
 "metadata": {
  "kernelspec": {
   "display_name": "udemy",
   "language": "python",
   "name": "python3"
  },
  "language_info": {
   "codemirror_mode": {
    "name": "ipython",
    "version": 3
   },
   "file_extension": ".py",
   "mimetype": "text/x-python",
   "name": "python",
   "nbconvert_exporter": "python",
   "pygments_lexer": "ipython3",
   "version": "3.13.7"
  }
 },
 "nbformat": 4,
 "nbformat_minor": 5
}
